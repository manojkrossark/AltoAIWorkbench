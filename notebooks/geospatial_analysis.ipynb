{
 "cells": [
  {
   "cell_type": "code",
   "execution_count": null,
   "metadata": {},
   "outputs": [],
   "source": [
    "import pandas as pd\n",
    "import geopandas as gpd\n",
    "import matplotlib.pyplot as plt\n",
    "\n",
    "# Load Store Data\n",
    "store_data = pd.read_csv('data/store_data.csv')\n",
    "\n",
    "# Convert to GeoDataFrame\n",
    "gdf = gpd.GeoDataFrame(\n",
    "    store_data,\n",
    "    geometry=gpd.points_from_xy(store_data.longitude, store_data.latitude)\n",
    ")\n",
    "\n",
    "# Plot Stores on Map\n",
    "world = gpd.read_file(gpd.datasets.get_path('naturalearth_lowres'))\n",
    "fig, ax = plt.subplots(figsize=(15, 10))\n",
    "world.boundary.plot(ax=ax, linewidth=1)\n",
    "gdf.plot(ax=ax, color='red', markersize=100, label='Stores')\n",
    "plt.title('Store Locations')\n",
    "plt.xlabel('Longitude')\n",
    "plt.ylabel('Latitude')\n",
    "plt.legend()\n",
    "plt.show()\n",
    "\n",
    "# Geospatial Analysis: Store Density\n",
    "density = gdf.geometry.apply(lambda x: x.buffer(0.5)).unary_union\n",
    "plt.figure(figsize=(10, 6))\n",
    "plt.plot(density)\n",
    "plt.title('Store Density Analysis')\n",
    "plt.show()"
   ]
  }
 ],
 "metadata": {
  "language_info": {
   "name": "python"
  }
 },
 "nbformat": 4,
 "nbformat_minor": 2
}
