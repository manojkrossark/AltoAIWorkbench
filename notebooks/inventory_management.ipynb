{
 "cells": [
  {
   "cell_type": "code",
   "execution_count": null,
   "metadata": {},
   "outputs": [],
   "source": [
    "import pandas as pd\n",
    "from datetime import datetime, timedelta\n",
    "\n",
    "# Load Inventory Data\n",
    "inventory_data = pd.read_csv('data/inventory_data.csv')\n",
    "\n",
    "# Check Inventory Levels\n",
    "def check_inventory_levels(inventory_df):\n",
    "    low_stock_items = inventory_df[inventory_df['quantity'] < 20]\n",
    "    return low_stock_items\n",
    "\n",
    "# Alert for Low Stock\n",
    "low_stock_alerts = check_inventory_levels(inventory_data)\n",
    "if not low_stock_alerts.empty:\n",
    "    print(\"Low Stock Alerts:\")\n",
    "    print(low_stock_alerts[['product_id', 'product_name', 'quantity']])\n",
    "\n",
    "# Replenish Inventory\n",
    "def replenish_inventory(inventory_df):\n",
    "    for index, row in inventory_df.iterrows():\n",
    "        if row['quantity'] < 20:\n",
    "            restock_quantity = 100 - row['quantity']  # Example logic for restocking\n",
    "            print(f'Restocking {row[\"product_name\"]} by {restock_quantity} units.')\n",
    "            inventory_df.at[index, 'quantity'] += restock_quantity\n",
    "\n",
    "replenish_inventory(inventory_data)\n",
    "print(\"Updated Inventory:\")\n",
    "print(inventory_data)"
   ]
  }
 ],
 "metadata": {
  "language_info": {
   "name": "python"
  }
 },
 "nbformat": 4,
 "nbformat_minor": 2
}
