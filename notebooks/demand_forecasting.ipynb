{
 "cells": [
  {
   "cell_type": "code",
   "execution_count": null,
   "metadata": {},
   "outputs": [],
   "source": [
    "import pandas as pd\n",
    "import numpy as np\n",
    "import matplotlib.pyplot as plt\n",
    "from sklearn.model_selection import train_test_split\n",
    "from sklearn.ensemble import RandomForestRegressor\n",
    "from sklearn.metrics import mean_squared_error\n",
    "\n",
    "# Load Data\n",
    "sales_data = pd.read_csv('data/sales_data.csv')\n",
    "inventory_data = pd.read_csv('data/inventory_data.csv')\n",
    "\n",
    "# Data Preprocessing\n",
    "sales_data['date'] = pd.to_datetime(sales_data['date'])\n",
    "sales_data['month'] = sales_data['date'].dt.month\n",
    "sales_data['year'] = sales_data['date'].dt.year\n",
    "\n",
    "# Aggregate Sales Data\n",
    "monthly_sales = sales_data.groupby(['year', 'month', 'product_id']).agg({\n",
    "    'quantity_sold': 'sum',\n",
    "    'revenue': 'sum'\n",
    "}).reset_index()\n",
    "\n",
    "# Prepare Features and Target\n",
    "X = monthly_sales[['year', 'month', 'product_id']]\n",
    "y = monthly_sales['quantity_sold']\n",
    "\n",
    "# Split Data\n",
    "X_train, X_test, y_train, y_test = train_test_split(X, y, test_size=0.2, random_state=42)\n",
    "\n",
    "# Model Training\n",
    "model = RandomForestRegressor(n_estimators=100)\n",
    "model.fit(X_train, y_train)\n",
    "\n",
    "# Predictions\n",
    "y_pred = model.predict(X_test)\n",
    "\n",
    "# Evaluation\n",
    "mse = mean_squared_error(y_test, y_pred)\n",
    "print(f'Mean Squared Error: {mse}')\n",
    "\n",
    "# Visualize Predictions\n",
    "plt.figure(figsize=(10,6))\n",
    "plt.scatter(y_test, y_pred)\n",
    "plt.xlabel('Actual Sales')\n",
    "plt.ylabel('Predicted Sales')\n",
    "plt.title('Actual vs Predicted Sales')\n",
    "plt.show()"
   ]
  }
 ],
 "metadata": {
  "language_info": {
   "name": "python"
  }
 },
 "nbformat": 4,
 "nbformat_minor": 2
}
